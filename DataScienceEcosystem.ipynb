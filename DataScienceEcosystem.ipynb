{
 "cells": [
  {
   "cell_type": "markdown",
   "id": "64374f9f-48ce-45a4-a71d-d8cca922857a",
   "metadata": {},
   "source": [
    "<h1>#Data Science Tools and Ecosystem<h1>"
   ]
  },
  {
   "cell_type": "markdown",
   "id": "c3a83d94-2df4-4074-9959-951b451ac933",
   "metadata": {},
   "source": [
    "In this notebook, Data Science Tools and Ecosystem are summarized."
   ]
  },
  {
   "cell_type": "markdown",
   "id": "b786d6dd-5bf0-4c43-a874-737fd100bdf2",
   "metadata": {},
   "source": [
    "Some of the popular languages that Data Scientists use are:\n",
    "\n",
    "1. Python\n",
    "2. R\n",
    "3. Scala"
   ]
  },
  {
   "cell_type": "markdown",
   "id": "d1f0345e-2ac1-4eef-bd51-91d4d786014e",
   "metadata": {},
   "source": [
    "**Objectives:**\n",
    "- List popular languages for Data Science.\n",
    "- Introduce common data science libraries.\n",
    "- Demonstrate basic arithmetic operations in Python.\n",
    "- Showcase data conversion examples.\n",
    "- Briefly explore development environment tools."
   ]
  },
  {
   "cell_type": "markdown",
   "id": "09ca1c7c-94ce-47a8-b8f0-4f34482c8fc3",
   "metadata": {},
   "source": [
    "Some of the commonly used libraries used by Data Scientists include:\n",
    "1. Numpy\n",
    "2. Pandas\n",
    "3. Scikit"
   ]
  },
  {
   "cell_type": "markdown",
   "id": "36768c82-ba8d-49a7-bbfc-12180af2e612",
   "metadata": {},
   "source": [
    "| Data Science Tools |\n",
    "|:--------:|\n",
    "|  Jupyter Notebook   |\n",
    "|  Pycharm   |\n",
    "|  Visual Studio Code   | "
   ]
  },
  {
   "cell_type": "markdown",
   "id": "6a64211d-9d2a-4066-bba5-6aa7ed460021",
   "metadata": {},
   "source": [
    "### Below are a few examples of evaluating arithmetic expressions in Python."
   ]
  },
  {
   "cell_type": "code",
   "execution_count": 3,
   "id": "21bf5179-1be4-4ead-8e7f-1c5c600cabc0",
   "metadata": {
    "tags": []
   },
   "outputs": [
    {
     "data": {
      "text/plain": [
       "17"
      ]
     },
     "execution_count": 3,
     "metadata": {},
     "output_type": "execute_result"
    }
   ],
   "source": [
    "# This a simple arithmetic expression to multiply then add integers.\n",
    "\n",
    "(3 * 4) + 5"
   ]
  },
  {
   "cell_type": "code",
   "execution_count": 4,
   "id": "576d3e3b-17a0-423d-b67b-e72932fce87c",
   "metadata": {
    "tags": []
   },
   "outputs": [
    {
     "data": {
      "text/plain": [
       "3.3333333333333335"
      ]
     },
     "execution_count": 4,
     "metadata": {},
     "output_type": "execute_result"
    }
   ],
   "source": [
    "#This will convert 200 minutes to hours by diving by 60\n",
    "\n",
    "200/60"
   ]
  },
  {
   "cell_type": "markdown",
   "id": "ef9100df-3e0b-4c28-b7ca-ea15039498e2",
   "metadata": {},
   "source": [
    "### Author\n",
    "\n",
    "Augusto Oliveira Silva"
   ]
  },
  {
   "cell_type": "code",
   "execution_count": null,
   "id": "c7f66723-8ded-431b-b0fb-b631ed1fd12c",
   "metadata": {},
   "outputs": [],
   "source": []
  }
 ],
 "metadata": {
  "kernelspec": {
   "display_name": "Python",
   "language": "python",
   "name": "conda-env-python-py"
  },
  "language_info": {
   "codemirror_mode": {
    "name": "ipython",
    "version": 3
   },
   "file_extension": ".py",
   "mimetype": "text/x-python",
   "name": "python",
   "nbconvert_exporter": "python",
   "pygments_lexer": "ipython3",
   "version": "3.7.12"
  }
 },
 "nbformat": 4,
 "nbformat_minor": 5
}
